{
  "cells": [
    {
      "cell_type": "markdown",
      "metadata": {
        "id": "view-in-github",
        "colab_type": "text"
      },
      "source": [
        "<a href=\"https://colab.research.google.com/github/Jwelli/COGNOS_PROJECT/blob/main/histo_collab.ipynb\" target=\"_parent\"><img src=\"https://colab.research.google.com/assets/colab-badge.svg\" alt=\"Open In Colab\"/></a>"
      ]
    },
    {
      "cell_type": "markdown",
      "source": [
        "#*PROJECT: Analyzing Pharmacy Sale Price Distribution by Frequency*#\n",
        "*By Group 5: Jordan Wellington, Jayesh Chaduri, Jenifar Farhana, Shailpret Kaur and Shyna Dsouza\n",
        "\n",
        "### Objective:\n",
        "To make a Histogram Chart based on the monthly sales of pharmacy drugs.\n",
        "\n",
        "### Rationale:\n",
        "To find the range of sales for different drugs and identify ranges that are most and least common.\n",
        "\n",
        "### Resources:\n",
        "Pharma sales dataset via Kaggle.com\n",
        "https://www.kaggle.com/datasets/milanzdravkovic/pharma-sales-data?resource=download\n",
        "\n",
        "programmed with Python using matplotlib, pandas, numpy and seaborn API\n",
        "\n",
        "### Method:"
      ],
      "metadata": {
        "id": "TxjERQk7rbbb"
      },
      "id": "TxjERQk7rbbb"
    },
    {
      "cell_type": "code",
      "execution_count": 6,
      "id": "a2d019df",
      "metadata": {
        "id": "a2d019df"
      },
      "outputs": [],
      "source": [
        "\n",
        "#created dataframe from filepath,\n",
        "#made sure relevant API were installed\n",
        "filepath = '/content/salesmonthly.csv'\n",
        "\n",
        "#below commented out to save time\n",
        "'''\n",
        "#!pip install matplotlib\n",
        "#!pip install pandas\n",
        "#!pip install numpy\n",
        "!pip install seaborn\n",
        "!pip install datetime\n",
        "'''\n",
        "\n",
        "import pandas as pd\n",
        "import numpy as np\n",
        "import seaborn as sns\n",
        "import matplotlib.pyplot as plt\n"
      ]
    },
    {
      "cell_type": "code",
      "execution_count": 7,
      "id": "afb12e9e",
      "metadata": {
        "id": "afb12e9e",
        "outputId": "1e39da67-65e6-4028-c2af-858c15b8f824",
        "colab": {
          "base_uri": "https://localhost:8080/"
        }
      },
      "outputs": [
        {
          "output_type": "stream",
          "name": "stdout",
          "text": [
            "<class 'pandas.core.frame.DataFrame'>\n",
            "RangeIndex: 70 entries, 0 to 69\n",
            "Data columns (total 9 columns):\n",
            " #   Column  Non-Null Count  Dtype  \n",
            "---  ------  --------------  -----  \n",
            " 0   Date    70 non-null     object \n",
            " 1   M01AB   70 non-null     float64\n",
            " 2   M01AE   70 non-null     float64\n",
            " 3   N02BA   70 non-null     float64\n",
            " 4   N02BE   70 non-null     float64\n",
            " 5   N05B    70 non-null     float64\n",
            " 6   N05C    70 non-null     float64\n",
            " 7   R03     70 non-null     float64\n",
            " 8   R06     70 non-null     float64\n",
            "dtypes: float64(8), object(1)\n",
            "memory usage: 5.0+ KB\n"
          ]
        }
      ],
      "source": [
        "#imported the dataframe as 'data,' made sure data was called correctly\n",
        "df = pd.read_csv(filepath)\n",
        "\n",
        "#renaming 'datum' to 'Date' for an easier time\n",
        "df.rename(columns={'datum': 'Date'}, inplace=True)\n",
        "\n",
        "#checking the datatypes for all columns in df\n",
        "df.info()"
      ]
    },
    {
      "cell_type": "code",
      "source": [
        "#converting the 'date col from string to datetme\n",
        "df['Date'] = pd.to_datetime(df['Date'])\n",
        "\n",
        "df.info()\n"
      ],
      "metadata": {
        "id": "cGe6EkMP-eTb",
        "colab": {
          "base_uri": "https://localhost:8080/"
        },
        "outputId": "4bacc9e9-8b1d-4715-8616-fbc21ad520cb"
      },
      "id": "cGe6EkMP-eTb",
      "execution_count": 10,
      "outputs": [
        {
          "output_type": "stream",
          "name": "stdout",
          "text": [
            "<class 'pandas.core.frame.DataFrame'>\n",
            "RangeIndex: 70 entries, 0 to 69\n",
            "Data columns (total 9 columns):\n",
            " #   Column  Non-Null Count  Dtype         \n",
            "---  ------  --------------  -----         \n",
            " 0   Date    70 non-null     datetime64[ns]\n",
            " 1   M01AB   70 non-null     float64       \n",
            " 2   M01AE   70 non-null     float64       \n",
            " 3   N02BA   70 non-null     float64       \n",
            " 4   N02BE   70 non-null     float64       \n",
            " 5   N05B    70 non-null     float64       \n",
            " 6   N05C    70 non-null     float64       \n",
            " 7   R03     70 non-null     float64       \n",
            " 8   R06     70 non-null     float64       \n",
            "dtypes: datetime64[ns](1), float64(8)\n",
            "memory usage: 5.0 KB\n"
          ]
        }
      ]
    },
    {
      "cell_type": "markdown",
      "source": [
        "# New Section"
      ],
      "metadata": {
        "id": "VMV6cfyE-zUJ"
      },
      "id": "VMV6cfyE-zUJ"
    },
    {
      "cell_type": "code",
      "execution_count": 21,
      "id": "0ec2288e",
      "metadata": {
        "scrolled": true,
        "id": "0ec2288e",
        "colab": {
          "base_uri": "https://localhost:8080/",
          "height": 324
        },
        "outputId": "3a9c3069-3595-4d05-9bc5-c3e1969fb17d"
      },
      "outputs": [
        {
          "output_type": "stream",
          "name": "stderr",
          "text": [
            "<ipython-input-21-250fa640543f>:10: FutureWarning: The default value of numeric_only in DataFrameGroupBy.sum is deprecated. In a future version, numeric_only will default to False. Either specify numeric_only or select only columns which should be valid for the function.\n",
            "  dat_year = df.groupby(df['Date'].dt.year).sum()\n"
          ]
        },
        {
          "output_type": "execute_result",
          "data": {
            "text/plain": [
              "        M01AB     M01AE     N02BA      N02BE    N05B   N05C      R03      R06\n",
              "Date                                                                         \n",
              "2014  1510.77  1333.594  1683.279  10094.555  4355.0  303.0  1277.00   828.30\n",
              "2015  1905.62  1496.603  1608.630  11997.350  2965.0  159.0  1776.25   983.03\n",
              "2016  2125.06  1604.441  1664.800  13435.830  3278.5  207.0  2137.00  1065.07\n",
              "2017  1653.79  1214.485  1091.150   7674.919  2078.0  142.0  1732.00   919.61\n",
              "2018  1786.93  1389.656  1123.800  11263.675  3266.2  242.0  2765.00  1196.80\n",
              "2019  1517.27  1117.221   879.800   8011.616  2405.6  196.0  2050.00  1073.57"
            ],
            "text/html": [
              "\n",
              "\n",
              "  <div id=\"df-723e36e8-590d-4e10-a454-4aa1d68ada18\">\n",
              "    <div class=\"colab-df-container\">\n",
              "      <div>\n",
              "<style scoped>\n",
              "    .dataframe tbody tr th:only-of-type {\n",
              "        vertical-align: middle;\n",
              "    }\n",
              "\n",
              "    .dataframe tbody tr th {\n",
              "        vertical-align: top;\n",
              "    }\n",
              "\n",
              "    .dataframe thead th {\n",
              "        text-align: right;\n",
              "    }\n",
              "</style>\n",
              "<table border=\"1\" class=\"dataframe\">\n",
              "  <thead>\n",
              "    <tr style=\"text-align: right;\">\n",
              "      <th></th>\n",
              "      <th>M01AB</th>\n",
              "      <th>M01AE</th>\n",
              "      <th>N02BA</th>\n",
              "      <th>N02BE</th>\n",
              "      <th>N05B</th>\n",
              "      <th>N05C</th>\n",
              "      <th>R03</th>\n",
              "      <th>R06</th>\n",
              "    </tr>\n",
              "    <tr>\n",
              "      <th>Date</th>\n",
              "      <th></th>\n",
              "      <th></th>\n",
              "      <th></th>\n",
              "      <th></th>\n",
              "      <th></th>\n",
              "      <th></th>\n",
              "      <th></th>\n",
              "      <th></th>\n",
              "    </tr>\n",
              "  </thead>\n",
              "  <tbody>\n",
              "    <tr>\n",
              "      <th>2014</th>\n",
              "      <td>1510.77</td>\n",
              "      <td>1333.594</td>\n",
              "      <td>1683.279</td>\n",
              "      <td>10094.555</td>\n",
              "      <td>4355.0</td>\n",
              "      <td>303.0</td>\n",
              "      <td>1277.00</td>\n",
              "      <td>828.30</td>\n",
              "    </tr>\n",
              "    <tr>\n",
              "      <th>2015</th>\n",
              "      <td>1905.62</td>\n",
              "      <td>1496.603</td>\n",
              "      <td>1608.630</td>\n",
              "      <td>11997.350</td>\n",
              "      <td>2965.0</td>\n",
              "      <td>159.0</td>\n",
              "      <td>1776.25</td>\n",
              "      <td>983.03</td>\n",
              "    </tr>\n",
              "    <tr>\n",
              "      <th>2016</th>\n",
              "      <td>2125.06</td>\n",
              "      <td>1604.441</td>\n",
              "      <td>1664.800</td>\n",
              "      <td>13435.830</td>\n",
              "      <td>3278.5</td>\n",
              "      <td>207.0</td>\n",
              "      <td>2137.00</td>\n",
              "      <td>1065.07</td>\n",
              "    </tr>\n",
              "    <tr>\n",
              "      <th>2017</th>\n",
              "      <td>1653.79</td>\n",
              "      <td>1214.485</td>\n",
              "      <td>1091.150</td>\n",
              "      <td>7674.919</td>\n",
              "      <td>2078.0</td>\n",
              "      <td>142.0</td>\n",
              "      <td>1732.00</td>\n",
              "      <td>919.61</td>\n",
              "    </tr>\n",
              "    <tr>\n",
              "      <th>2018</th>\n",
              "      <td>1786.93</td>\n",
              "      <td>1389.656</td>\n",
              "      <td>1123.800</td>\n",
              "      <td>11263.675</td>\n",
              "      <td>3266.2</td>\n",
              "      <td>242.0</td>\n",
              "      <td>2765.00</td>\n",
              "      <td>1196.80</td>\n",
              "    </tr>\n",
              "    <tr>\n",
              "      <th>2019</th>\n",
              "      <td>1517.27</td>\n",
              "      <td>1117.221</td>\n",
              "      <td>879.800</td>\n",
              "      <td>8011.616</td>\n",
              "      <td>2405.6</td>\n",
              "      <td>196.0</td>\n",
              "      <td>2050.00</td>\n",
              "      <td>1073.57</td>\n",
              "    </tr>\n",
              "  </tbody>\n",
              "</table>\n",
              "</div>\n",
              "      <button class=\"colab-df-convert\" onclick=\"convertToInteractive('df-723e36e8-590d-4e10-a454-4aa1d68ada18')\"\n",
              "              title=\"Convert this dataframe to an interactive table.\"\n",
              "              style=\"display:none;\">\n",
              "\n",
              "  <svg xmlns=\"http://www.w3.org/2000/svg\" height=\"24px\"viewBox=\"0 0 24 24\"\n",
              "       width=\"24px\">\n",
              "    <path d=\"M0 0h24v24H0V0z\" fill=\"none\"/>\n",
              "    <path d=\"M18.56 5.44l.94 2.06.94-2.06 2.06-.94-2.06-.94-.94-2.06-.94 2.06-2.06.94zm-11 1L8.5 8.5l.94-2.06 2.06-.94-2.06-.94L8.5 2.5l-.94 2.06-2.06.94zm10 10l.94 2.06.94-2.06 2.06-.94-2.06-.94-.94-2.06-.94 2.06-2.06.94z\"/><path d=\"M17.41 7.96l-1.37-1.37c-.4-.4-.92-.59-1.43-.59-.52 0-1.04.2-1.43.59L10.3 9.45l-7.72 7.72c-.78.78-.78 2.05 0 2.83L4 21.41c.39.39.9.59 1.41.59.51 0 1.02-.2 1.41-.59l7.78-7.78 2.81-2.81c.8-.78.8-2.07 0-2.86zM5.41 20L4 18.59l7.72-7.72 1.47 1.35L5.41 20z\"/>\n",
              "  </svg>\n",
              "      </button>\n",
              "\n",
              "\n",
              "\n",
              "    <div id=\"df-6b7f5f40-c2a3-42c2-b808-e1e57457259c\">\n",
              "      <button class=\"colab-df-quickchart\" onclick=\"quickchart('df-6b7f5f40-c2a3-42c2-b808-e1e57457259c')\"\n",
              "              title=\"Suggest charts.\"\n",
              "              style=\"display:none;\">\n",
              "\n",
              "<svg xmlns=\"http://www.w3.org/2000/svg\" height=\"24px\"viewBox=\"0 0 24 24\"\n",
              "     width=\"24px\">\n",
              "    <g>\n",
              "        <path d=\"M19 3H5c-1.1 0-2 .9-2 2v14c0 1.1.9 2 2 2h14c1.1 0 2-.9 2-2V5c0-1.1-.9-2-2-2zM9 17H7v-7h2v7zm4 0h-2V7h2v10zm4 0h-2v-4h2v4z\"/>\n",
              "    </g>\n",
              "</svg>\n",
              "      </button>\n",
              "    </div>\n",
              "\n",
              "<style>\n",
              "  .colab-df-quickchart {\n",
              "    background-color: #E8F0FE;\n",
              "    border: none;\n",
              "    border-radius: 50%;\n",
              "    cursor: pointer;\n",
              "    display: none;\n",
              "    fill: #1967D2;\n",
              "    height: 32px;\n",
              "    padding: 0 0 0 0;\n",
              "    width: 32px;\n",
              "  }\n",
              "\n",
              "  .colab-df-quickchart:hover {\n",
              "    background-color: #E2EBFA;\n",
              "    box-shadow: 0px 1px 2px rgba(60, 64, 67, 0.3), 0px 1px 3px 1px rgba(60, 64, 67, 0.15);\n",
              "    fill: #174EA6;\n",
              "  }\n",
              "\n",
              "  [theme=dark] .colab-df-quickchart {\n",
              "    background-color: #3B4455;\n",
              "    fill: #D2E3FC;\n",
              "  }\n",
              "\n",
              "  [theme=dark] .colab-df-quickchart:hover {\n",
              "    background-color: #434B5C;\n",
              "    box-shadow: 0px 1px 3px 1px rgba(0, 0, 0, 0.15);\n",
              "    filter: drop-shadow(0px 1px 2px rgba(0, 0, 0, 0.3));\n",
              "    fill: #FFFFFF;\n",
              "  }\n",
              "</style>\n",
              "\n",
              "    <script>\n",
              "      async function quickchart(key) {\n",
              "        const containerElement = document.querySelector('#' + key);\n",
              "        const charts = await google.colab.kernel.invokeFunction(\n",
              "            'suggestCharts', [key], {});\n",
              "      }\n",
              "    </script>\n",
              "\n",
              "      <script>\n",
              "\n",
              "function displayQuickchartButton(domScope) {\n",
              "  let quickchartButtonEl =\n",
              "    domScope.querySelector('#df-6b7f5f40-c2a3-42c2-b808-e1e57457259c button.colab-df-quickchart');\n",
              "  quickchartButtonEl.style.display =\n",
              "    google.colab.kernel.accessAllowed ? 'block' : 'none';\n",
              "}\n",
              "\n",
              "        displayQuickchartButton(document);\n",
              "      </script>\n",
              "      <style>\n",
              "    .colab-df-container {\n",
              "      display:flex;\n",
              "      flex-wrap:wrap;\n",
              "      gap: 12px;\n",
              "    }\n",
              "\n",
              "    .colab-df-convert {\n",
              "      background-color: #E8F0FE;\n",
              "      border: none;\n",
              "      border-radius: 50%;\n",
              "      cursor: pointer;\n",
              "      display: none;\n",
              "      fill: #1967D2;\n",
              "      height: 32px;\n",
              "      padding: 0 0 0 0;\n",
              "      width: 32px;\n",
              "    }\n",
              "\n",
              "    .colab-df-convert:hover {\n",
              "      background-color: #E2EBFA;\n",
              "      box-shadow: 0px 1px 2px rgba(60, 64, 67, 0.3), 0px 1px 3px 1px rgba(60, 64, 67, 0.15);\n",
              "      fill: #174EA6;\n",
              "    }\n",
              "\n",
              "    [theme=dark] .colab-df-convert {\n",
              "      background-color: #3B4455;\n",
              "      fill: #D2E3FC;\n",
              "    }\n",
              "\n",
              "    [theme=dark] .colab-df-convert:hover {\n",
              "      background-color: #434B5C;\n",
              "      box-shadow: 0px 1px 3px 1px rgba(0, 0, 0, 0.15);\n",
              "      filter: drop-shadow(0px 1px 2px rgba(0, 0, 0, 0.3));\n",
              "      fill: #FFFFFF;\n",
              "    }\n",
              "  </style>\n",
              "\n",
              "      <script>\n",
              "        const buttonEl =\n",
              "          document.querySelector('#df-723e36e8-590d-4e10-a454-4aa1d68ada18 button.colab-df-convert');\n",
              "        buttonEl.style.display =\n",
              "          google.colab.kernel.accessAllowed ? 'block' : 'none';\n",
              "\n",
              "        async function convertToInteractive(key) {\n",
              "          const element = document.querySelector('#df-723e36e8-590d-4e10-a454-4aa1d68ada18');\n",
              "          const dataTable =\n",
              "            await google.colab.kernel.invokeFunction('convertToInteractive',\n",
              "                                                     [key], {});\n",
              "          if (!dataTable) return;\n",
              "\n",
              "          const docLinkHtml = 'Like what you see? Visit the ' +\n",
              "            '<a target=\"_blank\" href=https://colab.research.google.com/notebooks/data_table.ipynb>data table notebook</a>'\n",
              "            + ' to learn more about interactive tables.';\n",
              "          element.innerHTML = '';\n",
              "          dataTable['output_type'] = 'display_data';\n",
              "          await google.colab.output.renderOutput(dataTable, element);\n",
              "          const docLink = document.createElement('div');\n",
              "          docLink.innerHTML = docLinkHtml;\n",
              "          element.appendChild(docLink);\n",
              "        }\n",
              "      </script>\n",
              "    </div>\n",
              "  </div>\n"
            ]
          },
          "metadata": {},
          "execution_count": 21
        }
      ],
      "source": [
        "\n",
        "#used .str.contains() method on the 'Date' column to only get dates ranging in 2019.\n",
        "#Attempted to use datetime but Date column was str filetype\n",
        "'''\n",
        "dat_19 =df[df['Date'].str.contains('2019')]\n",
        "\n",
        "dat_19\n",
        "'''\n",
        "#converted Date to datetime type, stored groupby to dat_19\n",
        "\n",
        "dat_year = df.groupby(df['Date'].dt.year).sum()\n",
        "\n",
        "dat_year\n"
      ]
    },
    {
      "cell_type": "code",
      "execution_count": 16,
      "id": "d029ad70",
      "metadata": {
        "id": "d029ad70",
        "colab": {
          "base_uri": "https://localhost:8080/"
        },
        "outputId": "cc6bea24-9d8c-4c97-9fa1-f77e77ce173f"
      },
      "outputs": [
        {
          "output_type": "execute_result",
          "data": {
            "text/plain": [
              "[<pandas.core.groupby.generic.DataFrameGroupBy object at 0x7af84f892b30>]"
            ]
          },
          "metadata": {},
          "execution_count": 16
        }
      ],
      "source": [
        "\n"
      ]
    },
    {
      "cell_type": "code",
      "execution_count": 38,
      "id": "70f45bfa",
      "metadata": {
        "id": "70f45bfa",
        "colab": {
          "base_uri": "https://localhost:8080/",
          "height": 472
        },
        "outputId": "4a5bf47a-7053-478b-adbc-9ee262a1bb1d"
      },
      "outputs": [
        {
          "output_type": "display_data",
          "data": {
            "text/plain": [
              "<Figure size 640x480 with 1 Axes>"
            ],
            "image/png": "[encoded data removed]"
          },
          "metadata": {}
        }
      ],
      "source": [
        "# Create a histogram to visualize the distribution of sales for \"Dataframe\"\n",
        "plt.hist(dat_year, bins=12, edgecolor='black')\n",
        "\n",
        "#x = df.plot.hist(column=[\"M01AB\"], by=\"Date\")\n",
        "# add a title to the histogram\n",
        "plt.title('Pharma Sales Data Monthly 2019')\n",
        "# add x-label\n",
        "plt.xlabel('Months')\n",
        "# add y-label\n",
        "plt.ylabel('Monthly Sale Frequency of Pharmacy Drugs')\n",
        "\n",
        "\n",
        "plt.show()"
      ]
    },
    {
      "cell_type": "markdown",
      "source": [
        "### Conclusion:\n",
        "\n",
        "We have come to the understanding that most of the drug sales occur during the first two months (January - February) with most drugs having a major falloff in sales by March."
      ],
      "metadata": {
        "id": "U5S5TbBrwuoq"
      },
      "id": "U5S5TbBrwuoq"
    },
    {
      "cell_type": "markdown",
      "source": [],
      "metadata": {
        "id": "GSLXv1aE3yTV"
      },
      "id": "GSLXv1aE3yTV"
    },
    {
      "cell_type": "code",
      "execution_count": null,
      "id": "a377ad33",
      "metadata": {
        "id": "a377ad33"
      },
      "outputs": [],
      "source": []
    }
  ],
  "metadata": {
    "kernelspec": {
      "display_name": "Python 3 (ipykernel)",
      "language": "python",
      "name": "python3"
    },
    "language_info": {
      "codemirror_mode": {
        "name": "ipython",
        "version": 3
      },
      "file_extension": ".py",
      "mimetype": "text/x-python",
      "name": "python",
      "nbconvert_exporter": "python",
      "pygments_lexer": "ipython3",
      "version": "3.10.9"
    },
    "colab": {
      "provenance": [],
      "include_colab_link": true
    }
  },
  "nbformat": 4,
  "nbformat_minor": 5
}