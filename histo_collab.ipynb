{
  "cells": [
    {
      "cell_type": "code",
      "execution_count": null,
      "id": "a2d019df",
      "metadata": {
        "id": "a2d019df",
        "outputId": "73fb5472-858c-400b-ef6c-2e1fc726b049",
        "colab": {
          "base_uri": "https://localhost:8080/"
        }
      },
      "outputs": [
        {
          "output_type": "stream",
          "name": "stdout",
          "text": [
            "Requirement already satisfied: matplotlib in /usr/local/lib/python3.10/dist-packages (3.7.1)\n",
            "Requirement already satisfied: contourpy>=1.0.1 in /usr/local/lib/python3.10/dist-packages (from matplotlib) (1.1.0)\n",
            "Requirement already satisfied: cycler>=0.10 in /usr/local/lib/python3.10/dist-packages (from matplotlib) (0.11.0)\n",
            "Requirement already satisfied: fonttools>=4.22.0 in /usr/local/lib/python3.10/dist-packages (from matplotlib) (4.41.0)\n",
            "Requirement already satisfied: kiwisolver>=1.0.1 in /usr/local/lib/python3.10/dist-packages (from matplotlib) (1.4.4)\n",
            "Requirement already satisfied: numpy>=1.20 in /usr/local/lib/python3.10/dist-packages (from matplotlib) (1.22.4)\n",
            "Requirement already satisfied: packaging>=20.0 in /usr/local/lib/python3.10/dist-packages (from matplotlib) (23.1)\n",
            "Requirement already satisfied: pillow>=6.2.0 in /usr/local/lib/python3.10/dist-packages (from matplotlib) (8.4.0)\n",
            "Requirement already satisfied: pyparsing>=2.3.1 in /usr/local/lib/python3.10/dist-packages (from matplotlib) (3.1.0)\n",
            "Requirement already satisfied: python-dateutil>=2.7 in /usr/local/lib/python3.10/dist-packages (from matplotlib) (2.8.2)\n",
            "Requirement already satisfied: six>=1.5 in /usr/local/lib/python3.10/dist-packages (from python-dateutil>=2.7->matplotlib) (1.16.0)\n",
            "Requirement already satisfied: pandas in /usr/local/lib/python3.10/dist-packages (1.5.3)\n",
            "Requirement already satisfied: python-dateutil>=2.8.1 in /usr/local/lib/python3.10/dist-packages (from pandas) (2.8.2)\n",
            "Requirement already satisfied: pytz>=2020.1 in /usr/local/lib/python3.10/dist-packages (from pandas) (2022.7.1)\n",
            "Requirement already satisfied: numpy>=1.21.0 in /usr/local/lib/python3.10/dist-packages (from pandas) (1.22.4)\n",
            "Requirement already satisfied: six>=1.5 in /usr/local/lib/python3.10/dist-packages (from python-dateutil>=2.8.1->pandas) (1.16.0)\n",
            "Requirement already satisfied: numpy in /usr/local/lib/python3.10/dist-packages (1.22.4)\n",
            "Requirement already satisfied: seaborn in /usr/local/lib/python3.10/dist-packages (0.12.2)\n",
            "Requirement already satisfied: numpy!=1.24.0,>=1.17 in /usr/local/lib/python3.10/dist-packages (from seaborn) (1.22.4)\n",
            "Requirement already satisfied: pandas>=0.25 in /usr/local/lib/python3.10/dist-packages (from seaborn) (1.5.3)\n",
            "Requirement already satisfied: matplotlib!=3.6.1,>=3.1 in /usr/local/lib/python3.10/dist-packages (from seaborn) (3.7.1)\n",
            "Requirement already satisfied: contourpy>=1.0.1 in /usr/local/lib/python3.10/dist-packages (from matplotlib!=3.6.1,>=3.1->seaborn) (1.1.0)\n",
            "Requirement already satisfied: cycler>=0.10 in /usr/local/lib/python3.10/dist-packages (from matplotlib!=3.6.1,>=3.1->seaborn) (0.11.0)\n",
            "Requirement already satisfied: fonttools>=4.22.0 in /usr/local/lib/python3.10/dist-packages (from matplotlib!=3.6.1,>=3.1->seaborn) (4.41.0)\n",
            "Requirement already satisfied: kiwisolver>=1.0.1 in /usr/local/lib/python3.10/dist-packages (from matplotlib!=3.6.1,>=3.1->seaborn) (1.4.4)\n",
            "Requirement already satisfied: packaging>=20.0 in /usr/local/lib/python3.10/dist-packages (from matplotlib!=3.6.1,>=3.1->seaborn) (23.1)\n",
            "Requirement already satisfied: pillow>=6.2.0 in /usr/local/lib/python3.10/dist-packages (from matplotlib!=3.6.1,>=3.1->seaborn) (8.4.0)\n",
            "Requirement already satisfied: pyparsing>=2.3.1 in /usr/local/lib/python3.10/dist-packages (from matplotlib!=3.6.1,>=3.1->seaborn) (3.1.0)\n",
            "Requirement already satisfied: python-dateutil>=2.7 in /usr/local/lib/python3.10/dist-packages (from matplotlib!=3.6.1,>=3.1->seaborn) (2.8.2)\n",
            "Requirement already satisfied: pytz>=2020.1 in /usr/local/lib/python3.10/dist-packages (from pandas>=0.25->seaborn) (2022.7.1)\n",
            "Requirement already satisfied: six>=1.5 in /usr/local/lib/python3.10/dist-packages (from python-dateutil>=2.7->matplotlib!=3.6.1,>=3.1->seaborn) (1.16.0)\n"
          ]
        }
      ],
      "source": [
        "filepath = 'C:\\\\Users\\\\Owner\\\\Documents\\\\course8\\\\archive\\\\salesmonthly.csv'\n",
        "\n",
        "!pip install matplotlib\n",
        "!pip install pandas\n",
        "!pip install numpy\n",
        "!pip install seaborn\n",
        "import pandas as pd\n",
        "import numpy as np\n",
        "import seaborn as sns\n",
        "import matplotlib.pyplot as plt\n",
        "\n",
        "\n"
      ]
    },
    {
      "cell_type": "code",
      "execution_count": null,
      "id": "afb12e9e",
      "metadata": {
        "id": "afb12e9e",
        "outputId": "fe252db3-9887-4817-a220-14a9cca729b0"
      },
      "outputs": [
        {
          "data": {
            "text/html": [
              "<div>\n",
              "<style scoped>\n",
              "    .dataframe tbody tr th:only-of-type {\n",
              "        vertical-align: middle;\n",
              "    }\n",
              "\n",
              "    .dataframe tbody tr th {\n",
              "        vertical-align: top;\n",
              "    }\n",
              "\n",
              "    .dataframe thead th {\n",
              "        text-align: right;\n",
              "    }\n",
              "</style>\n",
              "<table border=\"1\" class=\"dataframe\">\n",
              "  <thead>\n",
              "    <tr style=\"text-align: right;\">\n",
              "      <th></th>\n",
              "      <th>datum</th>\n",
              "      <th>M01AB</th>\n",
              "      <th>M01AE</th>\n",
              "      <th>N02BA</th>\n",
              "      <th>N02BE</th>\n",
              "      <th>N05B</th>\n",
              "      <th>N05C</th>\n",
              "      <th>R03</th>\n",
              "      <th>R06</th>\n",
              "    </tr>\n",
              "  </thead>\n",
              "  <tbody>\n",
              "    <tr>\n",
              "      <th>0</th>\n",
              "      <td>2014-01-31</td>\n",
              "      <td>127.69</td>\n",
              "      <td>99.090</td>\n",
              "      <td>152.100</td>\n",
              "      <td>878.030</td>\n",
              "      <td>354.0</td>\n",
              "      <td>50.0</td>\n",
              "      <td>112.0</td>\n",
              "      <td>48.20</td>\n",
              "    </tr>\n",
              "    <tr>\n",
              "      <th>1</th>\n",
              "      <td>2014-02-28</td>\n",
              "      <td>133.32</td>\n",
              "      <td>126.050</td>\n",
              "      <td>177.000</td>\n",
              "      <td>1001.900</td>\n",
              "      <td>347.0</td>\n",
              "      <td>31.0</td>\n",
              "      <td>122.0</td>\n",
              "      <td>36.20</td>\n",
              "    </tr>\n",
              "    <tr>\n",
              "      <th>2</th>\n",
              "      <td>2014-03-31</td>\n",
              "      <td>137.44</td>\n",
              "      <td>92.950</td>\n",
              "      <td>147.655</td>\n",
              "      <td>779.275</td>\n",
              "      <td>232.0</td>\n",
              "      <td>20.0</td>\n",
              "      <td>112.0</td>\n",
              "      <td>85.40</td>\n",
              "    </tr>\n",
              "    <tr>\n",
              "      <th>3</th>\n",
              "      <td>2014-04-30</td>\n",
              "      <td>113.10</td>\n",
              "      <td>89.475</td>\n",
              "      <td>130.900</td>\n",
              "      <td>698.500</td>\n",
              "      <td>209.0</td>\n",
              "      <td>18.0</td>\n",
              "      <td>97.0</td>\n",
              "      <td>73.70</td>\n",
              "    </tr>\n",
              "    <tr>\n",
              "      <th>4</th>\n",
              "      <td>2014-05-31</td>\n",
              "      <td>101.79</td>\n",
              "      <td>119.933</td>\n",
              "      <td>132.100</td>\n",
              "      <td>628.780</td>\n",
              "      <td>270.0</td>\n",
              "      <td>23.0</td>\n",
              "      <td>107.0</td>\n",
              "      <td>123.70</td>\n",
              "    </tr>\n",
              "    <tr>\n",
              "      <th>...</th>\n",
              "      <td>...</td>\n",
              "      <td>...</td>\n",
              "      <td>...</td>\n",
              "      <td>...</td>\n",
              "      <td>...</td>\n",
              "      <td>...</td>\n",
              "      <td>...</td>\n",
              "      <td>...</td>\n",
              "      <td>...</td>\n",
              "    </tr>\n",
              "    <tr>\n",
              "      <th>65</th>\n",
              "      <td>2019-06-30</td>\n",
              "      <td>151.54</td>\n",
              "      <td>101.627</td>\n",
              "      <td>103.200</td>\n",
              "      <td>610.000</td>\n",
              "      <td>193.0</td>\n",
              "      <td>25.0</td>\n",
              "      <td>142.0</td>\n",
              "      <td>156.04</td>\n",
              "    </tr>\n",
              "    <tr>\n",
              "      <th>66</th>\n",
              "      <td>2019-07-31</td>\n",
              "      <td>181.00</td>\n",
              "      <td>103.541</td>\n",
              "      <td>92.800</td>\n",
              "      <td>649.800</td>\n",
              "      <td>250.6</td>\n",
              "      <td>20.0</td>\n",
              "      <td>115.0</td>\n",
              "      <td>105.20</td>\n",
              "    </tr>\n",
              "    <tr>\n",
              "      <th>67</th>\n",
              "      <td>2019-08-31</td>\n",
              "      <td>181.91</td>\n",
              "      <td>88.269</td>\n",
              "      <td>84.200</td>\n",
              "      <td>518.100</td>\n",
              "      <td>237.0</td>\n",
              "      <td>26.0</td>\n",
              "      <td>145.0</td>\n",
              "      <td>97.30</td>\n",
              "    </tr>\n",
              "    <tr>\n",
              "      <th>68</th>\n",
              "      <td>2019-09-30</td>\n",
              "      <td>161.07</td>\n",
              "      <td>111.437</td>\n",
              "      <td>93.500</td>\n",
              "      <td>984.480</td>\n",
              "      <td>227.8</td>\n",
              "      <td>16.0</td>\n",
              "      <td>161.0</td>\n",
              "      <td>109.10</td>\n",
              "    </tr>\n",
              "    <tr>\n",
              "      <th>69</th>\n",
              "      <td>2019-10-31</td>\n",
              "      <td>44.37</td>\n",
              "      <td>37.300</td>\n",
              "      <td>20.650</td>\n",
              "      <td>295.150</td>\n",
              "      <td>86.0</td>\n",
              "      <td>7.0</td>\n",
              "      <td>37.0</td>\n",
              "      <td>11.13</td>\n",
              "    </tr>\n",
              "  </tbody>\n",
              "</table>\n",
              "<p>70 rows × 9 columns</p>\n",
              "</div>"
            ],
            "text/plain": [
              "         datum   M01AB    M01AE    N02BA     N02BE   N05B  N05C    R03     R06\n",
              "0   2014-01-31  127.69   99.090  152.100   878.030  354.0  50.0  112.0   48.20\n",
              "1   2014-02-28  133.32  126.050  177.000  1001.900  347.0  31.0  122.0   36.20\n",
              "2   2014-03-31  137.44   92.950  147.655   779.275  232.0  20.0  112.0   85.40\n",
              "3   2014-04-30  113.10   89.475  130.900   698.500  209.0  18.0   97.0   73.70\n",
              "4   2014-05-31  101.79  119.933  132.100   628.780  270.0  23.0  107.0  123.70\n",
              "..         ...     ...      ...      ...       ...    ...   ...    ...     ...\n",
              "65  2019-06-30  151.54  101.627  103.200   610.000  193.0  25.0  142.0  156.04\n",
              "66  2019-07-31  181.00  103.541   92.800   649.800  250.6  20.0  115.0  105.20\n",
              "67  2019-08-31  181.91   88.269   84.200   518.100  237.0  26.0  145.0   97.30\n",
              "68  2019-09-30  161.07  111.437   93.500   984.480  227.8  16.0  161.0  109.10\n",
              "69  2019-10-31   44.37   37.300   20.650   295.150   86.0   7.0   37.0   11.13\n",
              "\n",
              "[70 rows x 9 columns]"
            ]
          },
          "execution_count": 5,
          "metadata": {},
          "output_type": "execute_result"
        }
      ],
      "source": [
        "data = pd.read_csv(filepath)\n",
        "\n",
        "data"
      ]
    },
    {
      "cell_type": "code",
      "execution_count": null,
      "id": "0ec2288e",
      "metadata": {
        "scrolled": true,
        "id": "0ec2288e",
        "outputId": "dbeb9209-9ea1-4c9c-825d-3564be164e1f"
      },
      "outputs": [
        {
          "data": {
            "text/plain": [
              "'count  = 0\\nfor row in data:\\n    if row[] == 0:\\n        data.drop(row)\\n        count = count+1\\nprint(count, \"rows have been dropped\" )\\n\\ndata[30:40]\\n'"
            ]
          },
          "execution_count": 21,
          "metadata": {},
          "output_type": "execute_result"
        }
      ],
      "source": [
        "'''count  = 0\n",
        "for row in data:\n",
        "    if row[] == 0:\n",
        "        data.drop(row)\n",
        "        count = count+1\n",
        "print(count, \"rows have been dropped\" )\n",
        "\n",
        "data[30:40]\n",
        "d'''"
      ]
    },
    {
      "cell_type": "code",
      "execution_count": null,
      "id": "d029ad70",
      "metadata": {
        "id": "d029ad70"
      },
      "outputs": [],
      "source": [
        "data.rename(columns={'datum': 'Date'}, inplace=True)"
      ]
    },
    {
      "cell_type": "code",
      "execution_count": null,
      "id": "70f45bfa",
      "metadata": {
        "id": "70f45bfa",
        "outputId": "5c89f7d9-b2a2-4264-cd45-78bd50c2fbcb"
      },
      "outputs": [
        {
          "data": {
            "image/png": "[encoded data removed]",
            "text/plain": [
              "<Figure size 640x480 with 1 Axes>"
            ]
          },
          "metadata": {},
          "output_type": "display_data"
        }
      ],
      "source": [
        "# Convert the 'Date' column to datetime type\n",
        "df['Date'] = pd.to_datetime(data['Date'])\n",
        "# Create a histogram to visualize the distribution of sales for \"Product1\"\n",
        "plt.hist(data, bins=12, edgecolor='black')\n",
        "# add a title to the histogram\n",
        "plt.title('Pharma Sales Data Monthly')\n",
        "# add x-label\n",
        "plt.xlabel('Date')\n",
        "# add y-label\n",
        "plt.ylabel('Sales of M01AB')\n",
        "\n",
        "plt.show()"
      ]
    },
    {
      "cell_type": "code",
      "execution_count": null,
      "id": "a377ad33",
      "metadata": {
        "id": "a377ad33"
      },
      "outputs": [],
      "source": []
    }
  ],
  "metadata": {
    "kernelspec": {
      "display_name": "Python 3 (ipykernel)",
      "language": "python",
      "name": "python3"
    },
    "language_info": {
      "codemirror_mode": {
        "name": "ipython",
        "version": 3
      },
      "file_extension": ".py",
      "mimetype": "text/x-python",
      "name": "python",
      "nbconvert_exporter": "python",
      "pygments_lexer": "ipython3",
      "version": "3.10.9"
    },
    "colab": {
      "provenance": []
    }
  },
  "nbformat": 4,
  "nbformat_minor": 5
}